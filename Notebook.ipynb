{
 "cells": [
  {
   "cell_type": "code",
   "execution_count": 4,
   "id": "42eec662-f6af-4405-abff-fada1cc2b3b9",
   "metadata": {},
   "outputs": [
    {
     "name": "stderr",
     "output_type": "stream",
     "text": [
      "2022-07-10 03:37:23.498 \n",
      "  \u001b[33m\u001b[1mWarning:\u001b[0m to view this Streamlit app on a browser, run it with the following\n",
      "  command:\n",
      "\n",
      "    streamlit run C:\\Users\\Lenovo\\AppData\\Roaming\\Python\\Python38\\site-packages\\ipykernel_launcher.py [ARGUMENTS]\n"
     ]
    }
   ],
   "source": [
    "import os\n",
    "import glob\n",
    "import shutil\n",
    "\n",
    "#os.chdir('/content/drive/MyDrive/Github')\n",
    "#os.mkdir('Stock prediction')\n",
    "#os.chdir('/content/drive/MyDrive/Github/Stock prediction')\n",
    "\n",
    "import pandas as pd\n",
    "import numpy as np\n",
    "import matplotlib.pyplot as plt\n",
    "%matplotlib inline\n",
    "#import pandas_datareader as data\n",
    "\n",
    "from keras.models import load_model\n",
    "import streamlit as st\n",
    "\n",
    "uploaded_file = st.file_uploader(\"Choose a brain MRI ...\", type=\"jpg\")\n",
    "\n",
    "if uploaded_file is not None:\n",
    "\n",
    "    image = Image.open(uploaded_file)\n",
    "\n",
    "    st.image(image, caption='Uploaded MRI.', use_column_width=True)\n",
    "\n",
    "    st.write(\"\")\n",
    "\n",
    "    st.write(\"Classifying...\")\n",
    "\n",
    "    label = teachable_machine_classification(image, 'brain_tumor_classification.h5')\n",
    "\n",
    "    if label == 0:\n",
    "\n",
    "        st.write(\"The MRI scan has a brain tumor\")\n",
    "\n",
    "    else:\n",
    "\n",
    "        st.write(\"The MRI scan is healthy\")\n"
   ]
  },
  {
   "cell_type": "code",
   "execution_count": null,
   "id": "3a319239-da9e-4b40-9207-8a084c8fc736",
   "metadata": {},
   "outputs": [],
   "source": []
  }
 ],
 "metadata": {
  "kernelspec": {
   "display_name": "Python 3 (ipykernel)",
   "language": "python",
   "name": "python3"
  },
  "language_info": {
   "codemirror_mode": {
    "name": "ipython",
    "version": 3
   },
   "file_extension": ".py",
   "mimetype": "text/x-python",
   "name": "python",
   "nbconvert_exporter": "python",
   "pygments_lexer": "ipython3",
   "version": "3.8.2"
  }
 },
 "nbformat": 4,
 "nbformat_minor": 5
}
